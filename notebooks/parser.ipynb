{
 "cells": [
  {
   "cell_type": "markdown",
   "id": "508c4368",
   "metadata": {},
   "source": [
    "# ESG Parser Demo\n",
    "\n",
    "Tento notebook ukazuje, jak spustit modul `esg_parser_module` pro extrakci ESG metrik z PDF reportů a uložit výsledky do CSV."
   ]
  },
  {
   "cell_type": "code",
   "execution_count": 2,
   "id": "d08c15ff",
   "metadata": {},
   "outputs": [
    {
     "name": "stdout",
     "output_type": "stream",
     "text": [
      "def main():\r\n"
     ]
    }
   ],
   "source": [
    "!grep \"def \" /storage/brno2/home/filipja2/esg-gather/esg_parser_module/main.py"
   ]
  },
  {
   "cell_type": "code",
   "execution_count": 4,
   "id": "c7c61f5b",
   "metadata": {},
   "outputs": [],
   "source": [
    "import sys\n",
    "from pathlib import Path\n",
    "\n",
    "# Přidání cesty k repozitáři, pokud notebook neběží z kořene projektu\n",
    "sys.path.append(\"/storage/brno2/home/filipja2/esg-gather\")\n",
    "\n",
    "from esg_parser_module.main import main\n",
    "import esg_parser_module.config as cfg\n",
    "import pandas as pd\n"
   ]
  },
  {
   "cell_type": "code",
   "execution_count": 5,
   "id": "43609543",
   "metadata": {},
   "outputs": [],
   "source": [
    "# Nastavení cest k PDF souborům\n",
    "cfg.PATH_PDF_1 = Path(\"/storage/brno2/home/filipja2/esg-gather/data/raw/Allianz_Group_Sustainability_Report_2023-web.pdf\")\n",
    "cfg.PATH_PDF_2 = Path(\"/storage/brno2/home/filipja2/esg-gather/data/raw/en-allianz-group-annual-report-2024.pdf\")\n",
    "cfg.PATH_PDF_3 = Path(\"/storage/brno2/home/filipja2/esg-gather/data/raw/en-allianz-group-non-financial-supplement-2024.pdf\")\n",
    "\n",
    "# Cesta k výstupnímu CSV\n",
    "cfg.OUTPUT_CSV = Path(\"/storage/brno2/home/filipja2/esg-gather/data/processed/esg_metrics.csv\")\n"
   ]
  },
  {
   "cell_type": "code",
   "execution_count": 7,
   "id": "b0fe550c",
   "metadata": {},
   "outputs": [
    {
     "name": "stdout",
     "output_type": "stream",
     "text": [
      "Saved: data/processed/esg_metrics.csv\n",
      "Výsledky uloženy do: /storage/brno2/home/filipja2/esg-gather/data/processed/esg_metrics.csv\n"
     ]
    }
   ],
   "source": [
    "# Spuštění parseru s aktuální konfigurací\n",
    "main()\n",
    "print(f\"Výsledky uloženy do: {cfg.OUTPUT_CSV}\")\n"
   ]
  },
  {
   "cell_type": "code",
   "execution_count": 8,
   "id": "f101d752",
   "metadata": {},
   "outputs": [
    {
     "data": {
      "text/html": [
       "<div>\n",
       "<style scoped>\n",
       "    .dataframe tbody tr th:only-of-type {\n",
       "        vertical-align: middle;\n",
       "    }\n",
       "\n",
       "    .dataframe tbody tr th {\n",
       "        vertical-align: top;\n",
       "    }\n",
       "\n",
       "    .dataframe thead th {\n",
       "        text-align: right;\n",
       "    }\n",
       "</style>\n",
       "<table border=\"1\" class=\"dataframe\">\n",
       "  <thead>\n",
       "    <tr style=\"text-align: right;\">\n",
       "      <th></th>\n",
       "      <th>source_pdf</th>\n",
       "      <th>investments_intensity_t_per_eur_mn</th>\n",
       "      <th>propinv_total_t</th>\n",
       "      <th>ownops_scope1_t</th>\n",
       "      <th>ownops_scope2_location_t</th>\n",
       "      <th>ownops_scope3_t</th>\n",
       "      <th>ownops_scope2_market_t</th>\n",
       "      <th>ownops_total_location_t</th>\n",
       "      <th>ownops_total_market_t</th>\n",
       "      <th>ownops_scope2_t</th>\n",
       "    </tr>\n",
       "  </thead>\n",
       "  <tbody>\n",
       "    <tr>\n",
       "      <th>0</th>\n",
       "      <td>Allianz_Group_Sustainability_Report_2023-web.pdf</td>\n",
       "      <td>NaN</td>\n",
       "      <td>NaN</td>\n",
       "      <td>NaN</td>\n",
       "      <td>NaN</td>\n",
       "      <td>NaN</td>\n",
       "      <td>NaN</td>\n",
       "      <td>NaN</td>\n",
       "      <td>NaN</td>\n",
       "      <td>NaN</td>\n",
       "    </tr>\n",
       "    <tr>\n",
       "      <th>1</th>\n",
       "      <td>en-allianz-group-annual-report-2024.pdf</td>\n",
       "      <td>2.0</td>\n",
       "      <td>NaN</td>\n",
       "      <td>NaN</td>\n",
       "      <td>NaN</td>\n",
       "      <td>NaN</td>\n",
       "      <td>NaN</td>\n",
       "      <td>NaN</td>\n",
       "      <td>NaN</td>\n",
       "      <td>NaN</td>\n",
       "    </tr>\n",
       "    <tr>\n",
       "      <th>2</th>\n",
       "      <td>en-allianz-group-non-financial-supplement-2024...</td>\n",
       "      <td>NaN</td>\n",
       "      <td>202.0</td>\n",
       "      <td>36160.9</td>\n",
       "      <td>118928.5</td>\n",
       "      <td>102629.3</td>\n",
       "      <td>5947.0</td>\n",
       "      <td>257718.7</td>\n",
       "      <td>144737.2</td>\n",
       "      <td>5947.0</td>\n",
       "    </tr>\n",
       "  </tbody>\n",
       "</table>\n",
       "</div>"
      ],
      "text/plain": [
       "                                          source_pdf  \\\n",
       "0   Allianz_Group_Sustainability_Report_2023-web.pdf   \n",
       "1            en-allianz-group-annual-report-2024.pdf   \n",
       "2  en-allianz-group-non-financial-supplement-2024...   \n",
       "\n",
       "   investments_intensity_t_per_eur_mn  propinv_total_t  ownops_scope1_t  \\\n",
       "0                                 NaN              NaN              NaN   \n",
       "1                                 2.0              NaN              NaN   \n",
       "2                                 NaN            202.0          36160.9   \n",
       "\n",
       "   ownops_scope2_location_t  ownops_scope3_t  ownops_scope2_market_t  \\\n",
       "0                       NaN              NaN                     NaN   \n",
       "1                       NaN              NaN                     NaN   \n",
       "2                  118928.5         102629.3                  5947.0   \n",
       "\n",
       "   ownops_total_location_t  ownops_total_market_t  ownops_scope2_t  \n",
       "0                      NaN                    NaN              NaN  \n",
       "1                      NaN                    NaN              NaN  \n",
       "2                 257718.7               144737.2           5947.0  "
      ]
     },
     "execution_count": 8,
     "metadata": {},
     "output_type": "execute_result"
    }
   ],
   "source": [
    "# Načtení výsledného CSV a zobrazení\n",
    "df = pd.read_csv(cfg.OUTPUT_CSV)\n",
    "df\n"
   ]
  }
 ],
 "metadata": {
  "kernelspec": {
   "display_name": "Python (esg-py)",
   "language": "python",
   "name": "esg-py"
  },
  "language_info": {
   "codemirror_mode": {
    "name": "ipython",
    "version": 3
   },
   "file_extension": ".py",
   "mimetype": "text/x-python",
   "name": "python",
   "nbconvert_exporter": "python",
   "pygments_lexer": "ipython3",
   "version": "3.11.13"
  }
 },
 "nbformat": 4,
 "nbformat_minor": 5
}
